{
 "cells": [
  {
   "cell_type": "markdown",
   "id": "d5b398e6",
   "metadata": {},
   "source": [
    "01. In the below elements which of them are value or an expression? eg:- values are can be integer or string and expressions    will be mathematical operators.\n",
    "   * ======== expression \n",
    "   hello'=== value  \n",
    "   -87.8 ==== value\n",
    "   - ======== expression \n",
    "   / ======== expression \n",
    "   + ======== expression \n",
    "   6 ======== value "
   ]
  },
  {
   "cell_type": "markdown",
   "id": "c0d6aa51",
   "metadata": {},
   "source": [
    "02. What is the difference between string and variable?\n",
    "   String:- String can be written in single and double quotes.\n",
    "            for ex:- 'hello',\"hello\"\n",
    "   variable:- Variable is the think in which we can store data "
   ]
  },
  {
   "cell_type": "markdown",
   "id": "b85757d8",
   "metadata": {},
   "source": [
    "03. describe three different data types.\n",
    "   Integer:- Integer are created without a decimal or complex component.in other words integer can store only numerical                  values \n",
    "             For ex:- 7,3,887,55 etc\n",
    "   Float:- Float can store only decimal values\n",
    "           For ex:- 77.1,88.9,440 etc \n",
    "   Complex:- Complex() function returns a complex number by specifying a real number and an imaginary number.\n",
    "             For ex:- (5+3J),(7+88J)etc         "
   ]
  },
  {
   "cell_type": "markdown",
   "id": "cb5ae9e9",
   "metadata": {},
   "source": [
    "04. What is an expression made up of?What do all expression do?\n",
    "   An expression is made up of operators and operands.Expression are used to evaluate the values and show the result on the    screen  "
   ]
  },
  {
   "cell_type": "markdown",
   "id": "6e80101e",
   "metadata": {},
   "source": [
    "05. This assignment statements,like spam=10.what is the difference between an expression and a statement? \n",
    "   expression is made up of operators(values,containers like list,tuple,set) and operands(mathematical operators) and          statement is just like command that a python interpreter executes like print "
   ]
  },
  {
   "cell_type": "markdown",
   "id": "acc13a70",
   "metadata": {},
   "source": [
    "06. After running the following code,what does the variable bacon contain?"
   ]
  },
  {
   "cell_type": "code",
   "execution_count": 4,
   "id": "a64a4131",
   "metadata": {},
   "outputs": [],
   "source": [
    "   bacon =22"
   ]
  },
  {
   "cell_type": "code",
   "execution_count": 6,
   "id": "ba02863f",
   "metadata": {},
   "outputs": [
    {
     "data": {
      "text/plain": [
       "23"
      ]
     },
     "execution_count": 6,
     "metadata": {},
     "output_type": "execute_result"
    }
   ],
   "source": [
    "   bacon + 1"
   ]
  },
  {
   "cell_type": "markdown",
   "id": "cdf62b76",
   "metadata": {},
   "source": [
    "\n",
    "It gives 23 as execution code "
   ]
  },
  {
   "cell_type": "markdown",
   "id": "08b1de55",
   "metadata": {},
   "source": [
    "\n",
    "07. What should the values of the following two terms be?\n",
    "   'spam' +'spamspam'\n",
    "   'spam' * 3\n",
    "   Solution:- It will be the same "
   ]
  },
  {
   "cell_type": "markdown",
   "id": "f528fb7c",
   "metadata": {},
   "source": [
    "08. Why is eggs a valid variable name while 100 is invalid?\n",
    "   Egg is valid variable because variable can begin with a string while 100 is invalid because variable cannot begin with a    number. "
   ]
  },
  {
   "cell_type": "code",
   "execution_count": null,
   "id": "9e05b39d",
   "metadata": {},
   "outputs": [],
   "source": [
    "09. What three functions can be used to get the integer, floating-point number, or string version of a value?\n",
    "   int(),float(),str() fuctions will evaluate to the integer and only strings can be concatenated to other strings with the + operator."
   ]
  },
  {
   "cell_type": "code",
   "execution_count": null,
   "id": "4d5ac6d2",
   "metadata": {},
   "outputs": [],
   "source": [
    "10. Why does this expression cause an error? How can you fix it?\n",
    "    'I have eaten' + 99 +'burritos'\n",
    "    The expression causes an error because 99 is an integer, and only strings can be concatenated to other strings with the + operator and then the correct way is \n",
    "    'I have eaten' + str(99) + 'burritos'"
   ]
  }
 ],
 "metadata": {
  "kernelspec": {
   "display_name": "Python 3 (ipykernel)",
   "language": "python",
   "name": "python3"
  },
  "language_info": {
   "codemirror_mode": {
    "name": "ipython",
    "version": 3
   },
   "file_extension": ".py",
   "mimetype": "text/x-python",
   "name": "python",
   "nbconvert_exporter": "python",
   "pygments_lexer": "ipython3",
   "version": "3.9.7"
  }
 },
 "nbformat": 4,
 "nbformat_minor": 5
}
